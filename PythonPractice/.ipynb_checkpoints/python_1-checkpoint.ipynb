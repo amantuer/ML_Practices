{
 "cells": [
  {
   "cell_type": "code",
   "execution_count": 2,
   "metadata": {},
   "outputs": [
    {
     "data": {
      "text/plain": [
       "7"
      ]
     },
     "execution_count": 2,
     "metadata": {},
     "output_type": "execute_result"
    }
   ],
   "source": [
    "2+5"
   ]
  },
  {
   "cell_type": "code",
   "execution_count": 3,
   "metadata": {},
   "outputs": [
    {
     "data": {
      "text/plain": [
       "6.6"
      ]
     },
     "execution_count": 3,
     "metadata": {},
     "output_type": "execute_result"
    }
   ],
   "source": [
    "x = 3.3 # This is a commment\n",
    "y = 2\n",
    "x * y"
   ]
  },
  {
   "cell_type": "code",
   "execution_count": 4,
   "metadata": {},
   "outputs": [],
   "source": [
    "x1 = 1  # Interger\n",
    "x2 = 2.54  #float\n",
    "x3 = 'This is string' #string\n",
    "x4 = True  #Boolean value \n",
    "x5 = False #Boolean value \n",
    "x6 = None # None value (the absence of any value 表示没有任何数值)"
   ]
  },
  {
   "cell_type": "code",
   "execution_count": 6,
   "metadata": {},
   "outputs": [
    {
     "data": {
      "text/plain": [
       "float"
      ]
     },
     "metadata": {},
     "output_type": "display_data"
    },
    {
     "data": {
      "text/plain": [
       "int"
      ]
     },
     "metadata": {},
     "output_type": "display_data"
    },
    {
     "data": {
      "text/plain": [
       "str"
      ]
     },
     "metadata": {},
     "output_type": "display_data"
    },
    {
     "data": {
      "text/plain": [
       "bool"
      ]
     },
     "metadata": {},
     "output_type": "display_data"
    },
    {
     "data": {
      "text/plain": [
       "NoneType"
      ]
     },
     "metadata": {},
     "output_type": "display_data"
    }
   ],
   "source": [
    "x1 = 3.3\n",
    "display(type(x1))\n",
    "x2 = 2\n",
    "display(type(x2))\n",
    "x3 = 'what'\n",
    "display(type(x3))\n",
    "x4 = True\n",
    "display(type(x4))\n",
    "x5 = None\n",
    "display(type(x5))"
   ]
  },
  {
   "cell_type": "code",
   "execution_count": 7,
   "metadata": {
    "scrolled": true
   },
   "outputs": [
    {
     "name": "stdout",
     "output_type": "stream",
     "text": [
      "<class 'float'>\n",
      "<class 'int'>\n",
      "<class 'str'>\n",
      "<class 'bool'>\n",
      "<class 'NoneType'>\n"
     ]
    }
   ],
   "source": [
    "x1 = 3.3\n",
    "print(type(x1))\n",
    "x2 = 2\n",
    "print(type(x2))\n",
    "x3 = 'what'\n",
    "print(type(x3))\n",
    "x4 = True\n",
    "print(type(x4))\n",
    "x5 = None\n",
    "print(type(x5))"
   ]
  },
  {
   "cell_type": "code",
   "execution_count": 8,
   "metadata": {},
   "outputs": [
    {
     "data": {
      "text/plain": [
       "NoneType"
      ]
     },
     "execution_count": 8,
     "metadata": {},
     "output_type": "execute_result"
    }
   ],
   "source": [
    "'''\n",
    "If you're seeing the output 'NoneType' directly under a code cell in Jupyter Notebook or JupyterLab without using the print() function, \n",
    "it's likely because the Jupyter environment automatically displays the value of the last expression in a cell, which in this case is the result of calling type(x5).\n",
    "\n",
    "When you execute a code cell in Jupyter Notebook or JupyterLab, if the last line of code in the cell evaluates to something (i.e., it has a return value), \n",
    "Jupyter will display that value as the output below the cell. If the last line of code is a variable assignment, function call, or any other expression that doesn't produce a meaningful value, \n",
    "it will display None as the output, since Python implicitly returns None in such cases.\n",
    "\n",
    "In your case, the code cell contains multiple lines, each evaluating the type of a variable using the type() function. Since these expressions are not printed using print(), \n",
    "their return values are displayed as cell outputs. Therefore, you see 'NoneType' displayed under the cell, indicating the result of evaluating the expression type(x5) in the last line of the cell.\n",
    "'''\n",
    "x1 = 3.3\n",
    "type(x1)\n",
    "x2 = 2\n",
    "type(x2)\n",
    "x3 = 'what'\n",
    "type(x3)\n",
    "x4 = True\n",
    "type(x4)\n",
    "x5 = None\n",
    "type(x5)"
   ]
  },
  {
   "cell_type": "code",
   "execution_count": 9,
   "metadata": {},
   "outputs": [
    {
     "data": {
      "text/plain": [
       "0"
      ]
     },
     "execution_count": 9,
     "metadata": {},
     "output_type": "execute_result"
    }
   ],
   "source": [
    "#提取虚部 a+bi\n",
    "(3).imag"
   ]
  },
  {
   "cell_type": "code",
   "execution_count": 14,
   "metadata": {},
   "outputs": [
    {
     "name": "stdout",
     "output_type": "stream",
     "text": [
      "This is a string\n",
      "Well, this is 'string' too!\n",
      "Johnny said: \"How are you?\"\n",
      "This is a string.Well, this is 'string' too!\n"
     ]
    }
   ],
   "source": [
    "string1 = 'This is a string'\n",
    "print(string1)\n",
    "string2 = \"Well, this is 'string' too!\"\n",
    "print(string2)\n",
    "string3 = 'Johnny said: \"How are you?\"'\n",
    "print(string3)\n",
    "string3 = string1 + \".\" + string2\n",
    "print(string3)"
   ]
  },
  {
   "cell_type": "code",
   "execution_count": 15,
   "metadata": {},
   "outputs": [
    {
     "name": "stdout",
     "output_type": "stream",
     "text": [
      "Here we use a newline\n",
      "to go to the next\t line.\n"
     ]
    }
   ],
   "source": [
    "# use \\t and \\n to add tab and newline characters to a string, respectively\n",
    "print(\"Here we use a newline\\nto go to the next\\t line.\")"
   ]
  },
  {
   "cell_type": "code",
   "execution_count": 1,
   "metadata": {},
   "outputs": [
    {
     "name": "stdout",
     "output_type": "stream",
     "text": [
      "7\n",
      "3\n",
      "10\n",
      "2.5\n",
      "2\n",
      "1\n",
      "25\n"
     ]
    }
   ],
   "source": [
    "x = 5\n",
    "y = 2 \n",
    "print(x + y) # addition\n",
    "print(x - y) # subtraction\n",
    "print(x * y) # multiplication\n",
    "print(x / y) # dividion\n",
    "print(x // y) # floor division (removing fractional parts)\n",
    "print(x %  y) # modulus (integer remanider of division)\n",
    "print(x ** y) # x to power of y"
   ]
  },
  {
   "cell_type": "code",
   "execution_count": 2,
   "metadata": {},
   "outputs": [
    {
     "name": "stdout",
     "output_type": "stream",
     "text": [
      "7.1\n",
      "3.0999999999999996\n",
      "10.2\n",
      "2.55\n",
      "2.0\n",
      "1.0999999999999996\n",
      "26.009999999999998\n"
     ]
    }
   ],
   "source": [
    "'''\n",
    "we change x = 5 to x = 5.1, then we observe some\n",
    "small rounding errors. Such unavoidable errors are due to internal representation of\n",
    "floating-point numbers.\n",
    "我们观察到一些小的舍入误差。这种不可避免的误差是由浮点数的内部表示造成的。\n",
    "'''\n",
    "x = 5.1\n",
    "y = 2 \n",
    "print(x + y)\n",
    "print(x - y)\n",
    "print(x * y)\n",
    "print(x / y)\n",
    "print(x // y)\n",
    "print(x %  y)\n",
    "print(x ** y)"
   ]
  },
  {
   "cell_type": "code",
   "execution_count": 3,
   "metadata": {},
   "outputs": [
    {
     "name": "stdout",
     "output_type": "stream",
     "text": [
      "False\n",
      "False\n",
      "False\n",
      "True\n",
      "True\n",
      "False\n",
      "False\n"
     ]
    }
   ],
   "source": [
    "print(x < 5) # less than (> is greater than)\n",
    "print(x <= 5) # less than or equal to (>= is greater than or equal to)\n",
    "print(x == 5) # equal to \n",
    "print(x != 5) # not equal to \n",
    "print((x > 4) and (y < 3)) # \"and\" keyword is used for logical and (it is highlighted to be distinguished from other texts)\n",
    "print((x < 4) or (y >3)) # \"or\" keyword is used for logical or\n",
    "print(not (x > 4)) # \"not\" keyword is used for logical not"
   ]
  },
  {
   "cell_type": "code",
   "execution_count": null,
   "metadata": {},
   "outputs": [],
   "source": []
  }
 ],
 "metadata": {
  "kernelspec": {
   "display_name": "Python 3 (ipykernel)",
   "language": "python",
   "name": "python3"
  },
  "language_info": {
   "codemirror_mode": {
    "name": "ipython",
    "version": 3
   },
   "file_extension": ".py",
   "mimetype": "text/x-python",
   "name": "python",
   "nbconvert_exporter": "python",
   "pygments_lexer": "ipython3",
   "version": "3.8.18"
  }
 },
 "nbformat": 4,
 "nbformat_minor": 4
}
