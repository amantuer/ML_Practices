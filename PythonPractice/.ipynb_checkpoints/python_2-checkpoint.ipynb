{
 "cells": [
  {
   "cell_type": "code",
   "execution_count": 2,
   "metadata": {},
   "outputs": [
    {
     "name": "stdout",
     "output_type": "stream",
     "text": [
      "True\n",
      "False\n",
      "True\n"
     ]
    }
   ],
   "source": [
    "'''\n",
    "Membership operator is used to check whether an element is present within a collection of data items. By collection, we refer to various (ordered or unordered) data\n",
    "structures such as string, lists, sets, tuples, and dictionaries\n",
    "'''\n",
    "print('Hello' in 'HelloWorlds!') # 'HelloWorlds!' is a string and 'Hello' is part of that\n",
    "print('Hello' in 'HellOWorlds!')\n",
    "print(320 in ['Hi',321,320,False,'Hello'])"
   ]
  },
  {
   "cell_type": "code",
   "execution_count": 3,
   "metadata": {},
   "outputs": [
    {
     "data": {
      "text/plain": [
       "5"
      ]
     },
     "execution_count": 3,
     "metadata": {},
     "output_type": "execute_result"
    }
   ],
   "source": [
    "'''\n",
    "Python has a number of built-in data structures that are used to store multiple data\n",
    "items as separate entries.\n",
    "Perhaps the most basic collection is a list. A list is used to store a sequence of objects\n",
    "(so it is ordered). It is created by a sequence of comma-separated objects within [ ]:\n",
    "'''\n",
    "x = [5, 3.0, 10, 200.2]\n",
    "x[0] # the index starts from 0"
   ]
  },
  {
   "cell_type": "code",
   "execution_count": 4,
   "metadata": {},
   "outputs": [
    {
     "data": {
      "text/plain": [
       "[34, False]"
      ]
     },
     "execution_count": 4,
     "metadata": {},
     "output_type": "execute_result"
    }
   ],
   "source": [
    "# Lists can contain objects of any data types:\n",
    "x = ['JupytherNB',75,None,True,[34,False],2,75] # observe that this list contains another list\n",
    "x[4]"
   ]
  },
  {
   "cell_type": "code",
   "execution_count": 5,
   "metadata": {},
   "outputs": [
    {
     "data": {
      "text/plain": [
       "['JupytherNB', 75, None, True, 52, 2, 75]"
      ]
     },
     "execution_count": 5,
     "metadata": {},
     "output_type": "execute_result"
    }
   ],
   "source": [
    "#In addition, lists are mutable, which means they can be modified after they are created.\n",
    "x[4] = 52 # here we change one element of list x\n",
    "x"
   ]
  },
  {
   "cell_type": "code",
   "execution_count": 6,
   "metadata": {},
   "outputs": [
    {
     "data": {
      "text/plain": [
       "7"
      ]
     },
     "execution_count": 6,
     "metadata": {},
     "output_type": "execute_result"
    }
   ],
   "source": [
    "#Here we use a built-in function to return the length of a list\n",
    "len(x)"
   ]
  },
  {
   "cell_type": "code",
   "execution_count": 7,
   "metadata": {},
   "outputs": [
    {
     "name": "stdout",
     "output_type": "stream",
     "text": [
      "['JupytherNB', 75, None, True, 52, 2, 75, 9, 0, 4, 2]\n",
      "[9, 0, 4, 2, 9, 0, 4, 2, 9, 0, 4, 2]\n"
     ]
    }
   ],
   "source": [
    "y = [9,0,4,2] \n",
    "print(x + y) # to concatenate two lists, + operator is used\n",
    "print(y * 3) # to concatenate multiple copies of the same list, * operator is used"
   ]
  },
  {
   "cell_type": "code",
   "execution_count": 8,
   "metadata": {},
   "outputs": [
    {
     "data": {
      "text/plain": [
       "[[9, 0, 4, 2], ['JupytherNB', 75, None, True, 52, 2, 75]]"
      ]
     },
     "execution_count": 8,
     "metadata": {},
     "output_type": "execute_result"
    }
   ],
   "source": [
    "z = [y,x] # to nest lists to create another list\n",
    "z"
   ]
  },
  {
   "cell_type": "code",
   "execution_count": null,
   "metadata": {},
   "outputs": [],
   "source": []
  }
 ],
 "metadata": {
  "kernelspec": {
   "display_name": "Python 3 (ipykernel)",
   "language": "python",
   "name": "python3"
  },
  "language_info": {
   "codemirror_mode": {
    "name": "ipython",
    "version": 3
   },
   "file_extension": ".py",
   "mimetype": "text/x-python",
   "name": "python",
   "nbconvert_exporter": "python",
   "pygments_lexer": "ipython3",
   "version": "3.8.18"
  }
 },
 "nbformat": 4,
 "nbformat_minor": 4
}
