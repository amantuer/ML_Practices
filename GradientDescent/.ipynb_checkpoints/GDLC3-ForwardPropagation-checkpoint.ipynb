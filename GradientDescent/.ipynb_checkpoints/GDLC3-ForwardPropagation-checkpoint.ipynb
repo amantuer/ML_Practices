{
 "cells": [
  {
   "cell_type": "code",
   "execution_count": 6,
   "id": "21aa5acb-0e4e-43fa-a15e-f509bf4b507b",
   "metadata": {},
   "outputs": [
    {
     "name": "stdout",
     "output_type": "stream",
     "text": [
      "0.8500000000000001\n"
     ]
    }
   ],
   "source": [
    "#This whole code notebook is an reproducation of book Grokking-Deep-Learning charpter 3\n",
    "#Nerual Network 101\n",
    "weight = 0.1\n",
    "def neural_network(input,weight):\n",
    "    predication = input * weight\n",
    "    return predication\n",
    "number_of_toes = [8.5,9.5,10,9]\n",
    "input = number_of_toes[0]\n",
    "pred = neural_network(input,weight)\n",
    "print(pred)\n"
   ]
  },
  {
   "cell_type": "code",
   "execution_count": 9,
   "id": "8a8794bb-8337-486e-9315-ac6ed97846d8",
   "metadata": {},
   "outputs": [
    {
     "name": "stdout",
     "output_type": "stream",
     "text": [
      "0.9800000000000001\n"
     ]
    }
   ],
   "source": [
    "#Making a Prediction with Multiple Inputs\n",
    "weights = [0.1,0.2,0]\n",
    "toes = [8.5,9.5,9.9,9.0]\n",
    "wlrec = [0.65,0.8,0.8,0.9]\n",
    "nfans = [1.2,1.3,0.5,1.0]\n",
    "\n",
    "def w_sum(a,b):\n",
    "    assert(len(a)==len(b))\n",
    "    output = 0\n",
    "    for i in range(len(a)):\n",
    "        output += a[i] * b[i]\n",
    "    return output\n",
    "\n",
    "def neural_network(inputs,weights):\n",
    "    predication = w_sum(inputs,weights)\n",
    "    return predication\n",
    "\n",
    "inputs = [toes[0],wlrec[0],nfans[0]]\n",
    "\n",
    "pred = neural_network(inputs,weights)\n",
    "\n",
    "print(pred)"
   ]
  },
  {
   "cell_type": "code",
   "execution_count": 10,
   "id": "a2a4f84d-1072-4b41-981b-91fc1a1dce3e",
   "metadata": {},
   "outputs": [
    {
     "ename": "SyntaxError",
     "evalue": "expected ':' (4293016885.py, line 8)",
     "output_type": "error",
     "traceback": [
      "\u001b[1;36m  Cell \u001b[1;32mIn[10], line 8\u001b[1;36m\u001b[0m\n\u001b[1;33m    def neural_network(inputs,weights)\u001b[0m\n\u001b[1;37m                                      ^\u001b[0m\n\u001b[1;31mSyntaxError\u001b[0m\u001b[1;31m:\u001b[0m expected ':'\n"
     ]
    }
   ],
   "source": [
    "#Numpy Code version of above code\n",
    "import numpy as np\n",
    "weights = np.array([0.1,0.2,0])\n",
    "toes = np.array([8.5,9.5,9.9,9.0])\n",
    "wlrec = np.array([0.65,0.8,0.8,0.9])\n",
    "nfans = [1.2,1.3,0.5,1.0]\n",
    "\n",
    "def neural_network(inputs,weights):\n",
    "    predication = inputs.dot(weights)\n",
    "    return predication\n",
    "\n",
    "inputs = np.array([toes[0],wlrec[0],nfans[0]])\n",
    "pred = neural_network(inputs,weights)\n",
    "print(pred)"
   ]
  },
  {
   "cell_type": "code",
   "execution_count": null,
   "id": "a44cb519-c864-4cb9-af77-04187293ada0",
   "metadata": {},
   "outputs": [],
   "source": []
  }
 ],
 "metadata": {
  "kernelspec": {
   "display_name": "Python 3 (ipykernel)",
   "language": "python",
   "name": "python3"
  },
  "language_info": {
   "codemirror_mode": {
    "name": "ipython",
    "version": 3
   },
   "file_extension": ".py",
   "mimetype": "text/x-python",
   "name": "python",
   "nbconvert_exporter": "python",
   "pygments_lexer": "ipython3",
   "version": "3.10.12"
  }
 },
 "nbformat": 4,
 "nbformat_minor": 5
}
