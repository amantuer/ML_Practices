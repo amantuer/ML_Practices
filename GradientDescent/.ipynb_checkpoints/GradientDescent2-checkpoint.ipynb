{
 "cells": [
  {
   "cell_type": "code",
   "execution_count": 4,
   "id": "4aaa35a9-f98e-44a3-8f15-6867714b33c1",
   "metadata": {},
   "outputs": [
    {
     "name": "stdout",
     "output_type": "stream",
     "text": [
      "-----\n",
      "Weights: [0.5 0.5 0.5]\n",
      "Errors: [0.64   0.16   0.0625] Predictions: [0.   0.4  0.55]\n",
      "Deltas: [-0.8  -0.4  -0.25] Weight Deltas: [-0.    -0.32  -0.275]\n",
      "-----\n",
      "Weights: [0.5   0.82  0.775]\n",
      "Errors: [0.64       0.020736   0.00275625] Predictions: [0.     0.656  0.8525]\n",
      "Deltas: [-0.8    -0.144   0.0525] Weight Deltas: [-0.      -0.1152   0.05775]\n",
      "-----\n",
      "Weights: [0.5     0.9352  0.71725]\n",
      "Errors: [6.40000000e-01 2.68738560e-03 1.21550625e-04] Predictions: [0.       0.74816  0.788975]\n",
      "Deltas: [-0.8      -0.05184  -0.011025] Weight Deltas: [-0.        -0.041472  -0.0121275]\n",
      "-----\n",
      "Weights: [0.5       0.976672  0.7293775]\n",
      "Errors: [6.40000000e-01 3.48285174e-04 5.36038256e-06] Predictions: [0.         0.7813376  0.80231525]\n",
      "Deltas: [-0.8        -0.0186624   0.00231525] Weight Deltas: [-0.         -0.01492992  0.00254677]\n"
     ]
    }
   ],
   "source": [
    "import numpy as np\n",
    "\n",
    "weights = np.array([0.5, 0.5, 0.5])\n",
    "goal_pred = 0.8\n",
    "inputs = np.array([0.0, 0.8, 1.1])\n",
    "\n",
    "for iteration in range(4):\n",
    "    print(\"-----\\nWeights:\", weights)\n",
    "    preds = inputs * weights\n",
    "    errors = (preds - goal_pred)**2\n",
    "    deltas = preds - goal_pred\n",
    "    weight_deltas = deltas * inputs\n",
    "    weights = weights - weight_deltas\n",
    "    print(\"Errors:\", errors, \"Predictions:\", preds)\n",
    "    print(\"Deltas:\", deltas, \"Weight Deltas:\", weight_deltas)\n"
   ]
  },
  {
   "cell_type": "code",
   "execution_count": null,
   "id": "6876862f-e6c5-4453-be6d-747c75a5c5cd",
   "metadata": {},
   "outputs": [],
   "source": []
  }
 ],
 "metadata": {
  "kernelspec": {
   "display_name": "Python 3 (ipykernel)",
   "language": "python",
   "name": "python3"
  },
  "language_info": {
   "codemirror_mode": {
    "name": "ipython",
    "version": 3
   },
   "file_extension": ".py",
   "mimetype": "text/x-python",
   "name": "python",
   "nbconvert_exporter": "python",
   "pygments_lexer": "ipython3",
   "version": "3.10.12"
  }
 },
 "nbformat": 4,
 "nbformat_minor": 5
}
