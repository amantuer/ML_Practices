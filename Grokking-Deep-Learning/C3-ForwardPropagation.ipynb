{
 "cells": [
  {
   "cell_type": "code",
   "execution_count": 6,
   "id": "21aa5acb-0e4e-43fa-a15e-f509bf4b507b",
   "metadata": {},
   "outputs": [
    {
     "name": "stdout",
     "output_type": "stream",
     "text": [
      "0.8500000000000001\n"
     ]
    }
   ],
   "source": [
    "#This whole code notebook is an reproducation of book Grokking-Deep-Learning charpter 3\n",
    "#Nerual Network 101\n",
    "weight = 0.1\n",
    "def neural_network(input,weight):\n",
    "    predication = input * weight\n",
    "    return predication\n",
    "number_of_toes = [8.5,9.5,10,9]\n",
    "input = number_of_toes[0]\n",
    "pred = neural_network(input,weight)\n",
    "print(pred)\n"
   ]
  },
  {
   "cell_type": "code",
   "execution_count": 9,
   "id": "8a8794bb-8337-486e-9315-ac6ed97846d8",
   "metadata": {},
   "outputs": [
    {
     "name": "stdout",
     "output_type": "stream",
     "text": [
      "0.9800000000000001\n"
     ]
    }
   ],
   "source": [
    "#Making a Prediction with Multiple Inputs\n",
    "weights = [0.1,0.2,0]\n",
    "toes = [8.5,9.5,9.9,9.0]\n",
    "wlrec = [0.65,0.8,0.8,0.9]\n",
    "nfans = [1.2,1.3,0.5,1.0]\n",
    "\n",
    "def w_sum(a,b):\n",
    "    assert(len(a)==len(b))\n",
    "    output = 0\n",
    "    for i in range(len(a)):\n",
    "        output += a[i] * b[i]\n",
    "    return output\n",
    "\n",
    "def neural_network(inputs,weights):\n",
    "    predication = w_sum(inputs,weights)\n",
    "    return predication\n",
    "\n",
    "inputs = [toes[0],wlrec[0],nfans[0]]\n",
    "\n",
    "pred = neural_network(inputs,weights)\n",
    "\n",
    "print(pred)"
   ]
  },
  {
   "cell_type": "code",
   "execution_count": 1,
   "id": "a2a4f84d-1072-4b41-981b-91fc1a1dce3e",
   "metadata": {},
   "outputs": [
    {
     "name": "stdout",
     "output_type": "stream",
     "text": [
      "0.9800000000000001\n"
     ]
    }
   ],
   "source": [
    "#Numpy Code version of above code\n",
    "import numpy as np\n",
    "weights = np.array([0.1,0.2,0])\n",
    "toes = np.array([8.5,9.5,9.9,9.0])\n",
    "wlrec = np.array([0.65,0.8,0.8,0.9])\n",
    "nfans = [1.2,1.3,0.5,1.0]\n",
    "\n",
    "def neural_network(inputs,weights):\n",
    "    predication = inputs.dot(weights)\n",
    "    return predication\n",
    "\n",
    "inputs = np.array([toes[0],wlrec[0],nfans[0]])\n",
    "pred = neural_network(inputs,weights)\n",
    "print(pred)"
   ]
  },
  {
   "cell_type": "code",
   "execution_count": 2,
   "id": "a44cb519-c864-4cb9-af77-04187293ada0",
   "metadata": {},
   "outputs": [
    {
     "name": "stdout",
     "output_type": "stream",
     "text": [
      "[0.195, 0.13, 0.5850000000000001]\n"
     ]
    }
   ],
   "source": [
    "#Making a Predication with Multiple Outpus\n",
    "#Instead of predicting just\n",
    "#whether the team won or lost,\n",
    "#now we're also predicating whether\n",
    "#they are happy/sad AND the percentage\n",
    "#of the team that is hurt. We are only\n",
    "#the current win/losss record\n",
    "weights = [0.3,0.2,0.9]\n",
    "wlrec = [0.65,0.8,0.8,0.9]\n",
    "input = wlrec[0]\n",
    "\n",
    "def ele_mul(number,vector):\n",
    "    output = [0,0,0]\n",
    "    assert(len(output) == len(vector))\n",
    "    for i in range(len(vector)):\n",
    "        output[i] = number * vector[i]\n",
    "    return output\n",
    "\n",
    "def neural_network(input,vector):\n",
    "    predication = ele_mul(input,vector)\n",
    "    return predication\n",
    "\n",
    "pred = neural_network(input,weights)\n",
    "print(pred)"
   ]
  },
  {
   "cell_type": "code",
   "execution_count": 7,
   "id": "a0180eae-a4b9-4d98-ab42-26f13ea5cf3a",
   "metadata": {},
   "outputs": [
    {
     "name": "stdout",
     "output_type": "stream",
     "text": [
      "[0.555, 0.9800000000000001, 0.9650000000000001]\n"
     ]
    }
   ],
   "source": [
    "#Predicting with Multiple Inputs & Outputs\n",
    "#This dataset is the current\n",
    "#status at the beginning of\n",
    "#each game for the first 4 games\n",
    "#in a season\n",
    "\n",
    "#toes = current number of toes\n",
    "#wlrec = current games won (percent)\n",
    "#nfans = fan count (in millons)\n",
    "\n",
    "toes = [8.5,9.5,9.9,9.0]\n",
    "wlrec = [0.65,0.8,0.8,0.9]\n",
    "nfans = [1.2,1.3,0.5,1.0]\n",
    "\n",
    "weights =[[0.1,0.1,-0.3,], #hurt?\n",
    "          [0.1,0.2,0.0], #win?\n",
    "          [0.0,1.3,0.1]]  #sad?\n",
    "#Input corresponds to every entry\n",
    "#for the first game of the season\n",
    "\n",
    "input = [toes[0],wlrec[0],nfans[0]]\n",
    "\n",
    "def w_sum(a,b):\n",
    "    assert(len(a)==len(b))\n",
    "    output = 0\n",
    "    for i in range(len(a)):\n",
    "        output += (a[i] * b[i])\n",
    "    return output\n",
    "    \n",
    "def vect_mat_mul(vect,matrix):\n",
    "    assert(len(vect) == len(matrix))\n",
    "    output = [0,0,0]\n",
    "    for i in range(len(vect)):\n",
    "        output[i] = w_sum(vect,matrix[i])\n",
    "    return output\n",
    "\n",
    "def neural_network(input,weights):\n",
    "    predication = vect_mat_mul(input,weights)\n",
    "    return predication\n",
    "\n",
    "pred = neural_network(input,weights)\n",
    "\n",
    "print(pred)"
   ]
  },
  {
   "cell_type": "code",
   "execution_count": 9,
   "id": "b1f736bb-fbed-4c35-bd3d-4c1c1d55ce0b",
   "metadata": {},
   "outputs": [
    {
     "name": "stdout",
     "output_type": "stream",
     "text": [
      "[0.21350000000000002, 0.14500000000000002, 0.5065]\n"
     ]
    }
   ],
   "source": [
    "#Predicting on predictions\n",
    "toes = [8.5,9.5,9.9,9.0]\n",
    "wlrec = [0.65,0.8,0.8,0.9]\n",
    "nfans = [1.2,1.3,0.5,1.0]\n",
    "\n",
    "ih_wgt = [[0.1,0.2,-0.1],\n",
    "          [-0.1,0.1,0.9],\n",
    "          [0.1,0.4,0.1]]\n",
    "\n",
    "hp_wgt = [[0.3,1.1,-0.3],\n",
    "          [0.1,0.2,0.0],\n",
    "          [0.0,1.3,0.1]]\n",
    "\n",
    "weights = [ih_wgt,hp_wgt]\n",
    "\n",
    "def w_sum(a,b):\n",
    "    assert(len(a)==len(b))\n",
    "    output = 0\n",
    "    for i in range(len(a)):\n",
    "        output += (a[i] * b[i])\n",
    "    return output\n",
    "    \n",
    "def vect_mat_mul(vect,matrix):\n",
    "    assert(len(vect) == len(matrix))\n",
    "    output = [0,0,0]\n",
    "    for i in range(len(vect)):\n",
    "        output[i] = w_sum(vect,matrix[i])\n",
    "    return output\n",
    "    \n",
    "def neural_network(input,weights):\n",
    "    hid = vect_mat_mul(input,weights[0])\n",
    "    pred = vect_mat_mul(hid,weights[1])\n",
    "    return pred\n",
    "    \n",
    "input = [toes[0],wlrec[0],nfans[0]]\n",
    "pred = neural_network(input,weights)\n",
    "print(pred)"
   ]
  },
  {
   "cell_type": "code",
   "execution_count": 12,
   "id": "db035611-0223-4b5b-ac7a-711a9aa0bdc3",
   "metadata": {},
   "outputs": [
    {
     "name": "stdout",
     "output_type": "stream",
     "text": [
      "[ 0.496  1.256 -0.286]\n"
     ]
    }
   ],
   "source": [
    "#Numpy version Predicting on predictions, output is differnt to offical\n",
    "import numpy as np\n",
    "toes = np.array([8.5,9.5,9.9,9.0])\n",
    "wlrec = np.array([0.65,0.8,0.8,0.9])\n",
    "nfans = np.array([1.2,1.3,0.5,1.0])\n",
    "\n",
    "ih_wgt = np.array([[0.1,0.2,-0.1],\n",
    "          [-0.1,0.1,0.9],\n",
    "          [0.1,0.4,0.1]])\n",
    "\n",
    "hp_wgt = np.array([[0.3,1.1,-0.3],\n",
    "          [0.1,0.2,0.0],\n",
    "          [0.0,1.3,0.1]])\n",
    "\n",
    "weights = [ih_wgt,hp_wgt]\n",
    "\n",
    "    \n",
    "def neural_network(input,weights):\n",
    "    hid = input.dot(weights[0])\n",
    "    pred = hid.dot(weights[1])\n",
    "    return pred\n",
    "    \n",
    "input = np.array([toes[0],wlrec[0],nfans[0]])\n",
    "pred = neural_network(input,weights)\n",
    "print(pred)"
   ]
  },
  {
   "cell_type": "code",
   "execution_count": 14,
   "id": "5b24f0e3-8a20-4569-8d57-daaaebe4d179",
   "metadata": {},
   "outputs": [
    {
     "name": "stdout",
     "output_type": "stream",
     "text": [
      "[0 1 2 3]\n",
      "[4 5 6 7]\n",
      "[[0 1 2 3]\n",
      " [4 5 6 7]]\n",
      "[[0. 0. 0. 0.]\n",
      " [0. 0. 0. 0.]]\n",
      "[[0.59213824 0.53975179 0.89331469 0.12613366 0.33279003]\n",
      " [0.37452519 0.54038541 0.46576193 0.29621144 0.9974632 ]]\n"
     ]
    }
   ],
   "source": [
    "# A Quick Primer on NumPy\n",
    "import numpy as np\n",
    "\n",
    "a = np.array([0,1,2,3]) # a vector\n",
    "b = np.array([4,5,6,7]) # another vector\n",
    "c = np.array([[0,1,2,3],\n",
    "             [4,5,6,7]]) # a matrix\n",
    "\n",
    "d = np.zeros((2,4)) # (2 * 4 matrix of zeros)\n",
    "e = np.random.rand(2,5) # random 2*5\n",
    "# matrix with all numbers between 0 and 1\n",
    "\n",
    "print(a)\n",
    "print(b)\n",
    "print(c)\n",
    "print(d)\n",
    "print(e)"
   ]
  },
  {
   "cell_type": "code",
   "execution_count": 15,
   "id": "5ea4f7ff-5e64-40a5-849d-b217c8c79f9e",
   "metadata": {},
   "outputs": [
    {
     "name": "stdout",
     "output_type": "stream",
     "text": [
      "[0.  0.1 0.2 0.3]\n",
      "[[0.  0.1 0.2 0.3]\n",
      " [0.4 0.5 0.6 0.7]]\n",
      "[ 0  5 12 21]\n",
      "[0.  1.  2.4 4.2]\n",
      "[[ 0  1  4  9]\n",
      " [ 0  5 12 21]]\n"
     ]
    },
    {
     "ename": "ValueError",
     "evalue": "operands could not be broadcast together with shapes (4,) (2,5) ",
     "output_type": "error",
     "traceback": [
      "\u001b[1;31m---------------------------------------------------------------------------\u001b[0m",
      "\u001b[1;31mValueError\u001b[0m                                Traceback (most recent call last)",
      "Cell \u001b[1;32mIn[15], line 18\u001b[0m\n\u001b[0;32m     16\u001b[0m \u001b[38;5;28mprint\u001b[39m(a \u001b[38;5;241m*\u001b[39m c) \u001b[38;5;66;03m#since c has the same number of columns as a, this performs \u001b[39;00m\n\u001b[0;32m     17\u001b[0m \u001b[38;5;66;03m#elementwise mutiplication on every row of the matrix \"c\"\u001b[39;00m\n\u001b[1;32m---> 18\u001b[0m \u001b[38;5;28mprint\u001b[39m(\u001b[43ma\u001b[49m\u001b[43m \u001b[49m\u001b[38;5;241;43m*\u001b[39;49m\u001b[43m \u001b[49m\u001b[43me\u001b[49m) \u001b[38;5;66;03m#since a and e don't have the same number of columns, this \u001b[39;00m\n\u001b[0;32m     19\u001b[0m \u001b[38;5;66;03m#throws a \"Value Error: operands could not be broadcast together with..\"\u001b[39;00m\n",
      "\u001b[1;31mValueError\u001b[0m: operands could not be broadcast together with shapes (4,) (2,5) "
     ]
    }
   ],
   "source": [
    "import numpy as np\n",
    "\n",
    "a = np.array([0,1,2,3]) # a vector\n",
    "b = np.array([4,5,6,7]) # another vector\n",
    "c = np.array([[0,1,2,3],\n",
    "             [4,5,6,7]]) # a matrix\n",
    "\n",
    "d = np.zeros((2,4)) # (2 * 4 matrix of zeros)\n",
    "e = np.random.rand(2,5) # random 2*5\n",
    "# matrix with all numbers between 0 and 1\n",
    "\n",
    "print(a * 0.1) #multiplies every number in vector \"a\" by 0.1\n",
    "print(c * 0.1)  #multiplies every number in matrix \"c\" by 0.1\n",
    "print(a * b) #multiplies elementwise between a and b (columns paired up)\n",
    "print(a * b * 0.2) #elementwise multiplication then multiplied by 0.2\n",
    "print(a * c) #since c has the same number of columns as a, this performs \n",
    "#elementwise mutiplication on every row of the matrix \"c\"\n",
    "print(a * e) #since a and e don't have the same number of columns, this \n",
    "#throws a \"Value Error: operands could not be broadcast together with..\"\n"
   ]
  },
  {
   "cell_type": "code",
   "execution_count": 16,
   "id": "4fa0aaf1-5497-4a01-ab06-83b2bc5507cc",
   "metadata": {},
   "outputs": [
    {
     "name": "stdout",
     "output_type": "stream",
     "text": [
      "(1, 3)\n"
     ]
    }
   ],
   "source": [
    "import numpy as np\n",
    "a = np.zeros((1,4)) # vector of length 4\n",
    "b = np.zeros((4,3)) # matrix with 4 rows & 3 columns\n",
    "\n",
    "c = a.dot(b)\n",
    "\n",
    "print(c.shape)"
   ]
  },
  {
   "cell_type": "code",
   "execution_count": 18,
   "id": "b2a8444a-89bb-4f03-bf62-c470245dc812",
   "metadata": {},
   "outputs": [
    {
     "name": "stdout",
     "output_type": "stream",
     "text": [
      "(2, 3)\n",
      "(2, 3)\n",
      "(4, 6)\n"
     ]
    }
   ],
   "source": [
    "import numpy as np\n",
    "\n",
    "a = np.zeros((2,4)) # matrix with 2 rows and 4 columns\n",
    "b = np.zeros((4,3)) # matrix with 4 rows & 3 columns\n",
    "\n",
    "c = a.dot(b)\n",
    "print(c.shape) #output (2,3)\n",
    "\n",
    "e = np.zeros((2,1)) # matrix with 2 rows and 1 columns\n",
    "f = np.zeros((1,3)) # matrix with 1 row & 3 columns\n",
    "\n",
    "g = e.dot(f)\n",
    "print(g.shape) #output (2,3)\n",
    "\n",
    "h = np.zeros((5,4)).T # matrix with 4 rows and 5 columns\n",
    "i = np.zeros((5,6)) # matrix with 5 rows & 6 columns\n",
    "j = h.dot(i)\n",
    "\n",
    "print(j.shape) # throw an error"
   ]
  },
  {
   "cell_type": "code",
   "execution_count": 19,
   "id": "3e2f5b59-aeb3-4500-964e-d920b9955b93",
   "metadata": {},
   "outputs": [
    {
     "ename": "ValueError",
     "evalue": "shapes (5,4) and (5,6) not aligned: 4 (dim 1) != 5 (dim 0)",
     "output_type": "error",
     "traceback": [
      "\u001b[1;31m---------------------------------------------------------------------------\u001b[0m",
      "\u001b[1;31mValueError\u001b[0m                                Traceback (most recent call last)",
      "Cell \u001b[1;32mIn[19], line 4\u001b[0m\n\u001b[0;32m      2\u001b[0m h \u001b[38;5;241m=\u001b[39m np\u001b[38;5;241m.\u001b[39mzeros((\u001b[38;5;241m5\u001b[39m,\u001b[38;5;241m4\u001b[39m)) \u001b[38;5;66;03m# matrix with 5 rows and 4 columns\u001b[39;00m\n\u001b[0;32m      3\u001b[0m i \u001b[38;5;241m=\u001b[39m np\u001b[38;5;241m.\u001b[39mzeros((\u001b[38;5;241m5\u001b[39m,\u001b[38;5;241m6\u001b[39m)) \u001b[38;5;66;03m# matrix with 5 rows & 6 columns\u001b[39;00m\n\u001b[1;32m----> 4\u001b[0m j \u001b[38;5;241m=\u001b[39m \u001b[43mh\u001b[49m\u001b[38;5;241;43m.\u001b[39;49m\u001b[43mdot\u001b[49m\u001b[43m(\u001b[49m\u001b[43mi\u001b[49m\u001b[43m)\u001b[49m\n\u001b[0;32m      6\u001b[0m \u001b[38;5;28mprint\u001b[39m(j\u001b[38;5;241m.\u001b[39mshape) \u001b[38;5;66;03m# throw an error\u001b[39;00m\n",
      "\u001b[1;31mValueError\u001b[0m: shapes (5,4) and (5,6) not aligned: 4 (dim 1) != 5 (dim 0)"
     ]
    }
   ],
   "source": [
    "import numpy as np\n",
    "h = np.zeros((5,4)) # matrix with 5 rows and 4 columns\n",
    "i = np.zeros((5,6)) # matrix with 5 rows & 6 columns\n",
    "j = h.dot(i)\n",
    "\n",
    "print(j.shape) # throw an error"
   ]
  },
  {
   "cell_type": "code",
   "execution_count": null,
   "id": "64185573-d744-4d52-8038-a0c58ea7bae5",
   "metadata": {},
   "outputs": [],
   "source": []
  }
 ],
 "metadata": {
  "kernelspec": {
   "display_name": "Python 3 (ipykernel)",
   "language": "python",
   "name": "python3"
  },
  "language_info": {
   "codemirror_mode": {
    "name": "ipython",
    "version": 3
   },
   "file_extension": ".py",
   "mimetype": "text/x-python",
   "name": "python",
   "nbconvert_exporter": "python",
   "pygments_lexer": "ipython3",
   "version": "3.10.12"
  }
 },
 "nbformat": 4,
 "nbformat_minor": 5
}
